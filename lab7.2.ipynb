{
 "cells": [
  {
   "cell_type": "markdown",
   "metadata": {},
   "source": []
  },
  {
   "cell_type": "code",
   "execution_count": 16,
   "metadata": {},
   "outputs": [
    {
     "name": "stdout",
     "output_type": "stream",
     "text": [
      "สวัสดีคุณ asd\n"
     ]
    }
   ],
   "source": [
    "import tkinter as tk\n",
    "app = tk.Tk()\n",
    "app.geometry(\"500x300\")\n",
    "\n",
    "def showme(n):\n",
    "    print(\"สวัสดีคุณ %s \"%n)\n",
    "\n",
    "\n",
    "app.title('Design by Ful')\n",
    "label = tk.Label(text=\"ชื่อหนักงาน : \")\n",
    "name = tk.Entry()\n",
    "label2 = tk.Label(text=\"เงินเดือน : \")\n",
    "pay = tk.Entry()\n",
    "btn = tk.Button( text=\"คลิกฉัน\", command=showme(name))\n",
    "#label.pack()\n",
    "#name.pack()\n",
    "#btn.pack()\n",
    "label.place(x=50,y=50)\n",
    "name.place(x=150,y=50)\n",
    "label2.place(x=50,y=100)\n",
    "pay.place(x=150,y=100)\n",
    "btn.place(x=50,y=150)\n",
    "\n",
    "app.mainloop()\n"
   ]
  }
 ],
 "metadata": {
  "kernelspec": {
   "display_name": "Python 3",
   "language": "python",
   "name": "python3"
  },
  "language_info": {
   "codemirror_mode": {
    "name": "ipython",
    "version": 3
   },
   "file_extension": ".py",
   "mimetype": "text/x-python",
   "name": "python",
   "nbconvert_exporter": "python",
   "pygments_lexer": "ipython3",
   "version": "3.12.4"
  }
 },
 "nbformat": 4,
 "nbformat_minor": 2
}
