{
 "cells": [
  {
   "cell_type": "code",
   "execution_count": 4,
   "metadata": {},
   "outputs": [
    {
     "name": "stdout",
     "output_type": "stream",
     "text": [
      "ชื่อพนักงาน: ฟลู\n",
      "เงินเดือน: 5000.0 บาท\n",
      "ชั่วโมงล่วงเวลา: 100.0 ชั่วโมง\n",
      "ค่าล่วงเวลา: 13000.0 บาท\n",
      "เงินเดือนทั้งหมด: 18000.0 บาท\n"
     ]
    }
   ],
   "source": [
    "def calculate_salary(name, money, overtime_hours):\n",
    "    overtime_rate = 100\n",
    "\n",
    "    if overtime_hours > 40:\n",
    "        overtime_pay = 40 * overtime_rate + (overtime_hours - 40) * overtime_rate * 1.5\n",
    "    else:\n",
    "        overtime_pay = overtime_hours * overtime_rate\n",
    "\n",
    "    total_salary = money + overtime_pay\n",
    "\n",
    "    print(f\"ชื่อพนักงาน: {name}\")\n",
    "    print(f\"เงินเดือน: {money} บาท\")\n",
    "    print(f\"ชั่วโมงล่วงเวลา: {overtime_hours} ชั่วโมง\")\n",
    "    print(f\"ค่าล่วงเวลา: {overtime_pay} บาท\")\n",
    "    print(f\"เงินเดือนทั้งหมด: {total_salary} บาท\")\n",
    "\n",
    "name = input(\"ป้อนชื่อพนักงาน : \")\n",
    "money = float(input(\"ป้อนเงินเดือน : \"))\n",
    "overtime_hours = float(input(\"ป้อนชั่วโมงล่วงเวลา : \"))\n",
    "\n",
    "calculate_salary(name, money, overtime_hours)\n"
   ]
  }
 ],
 "metadata": {
  "kernelspec": {
   "display_name": "Python 3",
   "language": "python",
   "name": "python3"
  },
  "language_info": {
   "codemirror_mode": {
    "name": "ipython",
    "version": 3
   },
   "file_extension": ".py",
   "mimetype": "text/x-python",
   "name": "python",
   "nbconvert_exporter": "python",
   "pygments_lexer": "ipython3",
   "version": "3.12.4"
  }
 },
 "nbformat": 4,
 "nbformat_minor": 2
}
