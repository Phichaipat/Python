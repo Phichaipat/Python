{
 "cells": [
  {
   "cell_type": "code",
   "execution_count": 4,
   "metadata": {},
   "outputs": [
    {
     "name": "stdout",
     "output_type": "stream",
     "text": [
      "จำนวนคพแนนรวม: 43\n"
     ]
    }
   ],
   "source": [
    "def sum_cel(kap,pit,sof):\n",
    "    total = kap+pit+sof\n",
    "    return total\n",
    "\n",
    "def get_vaid_score(prompt,max_score):\n",
    "    while True:\n",
    "        score = int(input(prompt))\n",
    "        if score <= max_score:\n",
    "            return score\n",
    "        else:\n",
    "            print(f\"จำนวนคะแนนไม่เกิน {max_score}\")\n",
    "\n",
    "kap = get_vaid_score(\"จำนวนคะแนนเก็บ: \", 20)\n",
    "pit = get_vaid_score(\"จำนวนคะแนนจิตพิสัย: \", 10)\n",
    "sof = get_vaid_score(\"จำนวนคะแนนสอบ: \", 20)\n",
    "\n",
    "total_score = sum_cel(kap,pit,sof)\n",
    "\n",
    "print(f\"จำนวนคะแนนรวม: {total_score}\")"
   ]
  }
 ],
 "metadata": {
  "kernelspec": {
   "display_name": "Python 3",
   "language": "python",
   "name": "python3"
  },
  "language_info": {
   "codemirror_mode": {
    "name": "ipython",
    "version": 3
   },
   "file_extension": ".py",
   "mimetype": "text/x-python",
   "name": "python",
   "nbconvert_exporter": "python",
   "pygments_lexer": "ipython3",
   "version": "3.12.4"
  }
 },
 "nbformat": 4,
 "nbformat_minor": 2
}
